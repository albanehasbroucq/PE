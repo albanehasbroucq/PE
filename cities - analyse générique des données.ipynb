{
 "cells": [
  {
   "cell_type": "code",
   "execution_count": 40,
   "id": "49c98b3d-4bdc-4984-8391-7b2cff339ddd",
   "metadata": {},
   "outputs": [],
   "source": [
    "import pandas as pd\n",
    "import matplotlib as plt\n"
   ]
  },
  {
   "cell_type": "code",
   "execution_count": 41,
   "id": "179142b6-a042-44ed-b4ae-a538bf4ffcf8",
   "metadata": {},
   "outputs": [],
   "source": [
    "cities = pd.read_csv('cities.csv')"
   ]
  },
  {
   "cell_type": "markdown",
   "id": "2d58d2b8-13db-44d6-9384-f6630f1868b1",
   "metadata": {},
   "source": [
    "Commençons par afficher les quelques premières lignes du fichier, pour voir ce que l'on a à traiter :"
   ]
  },
  {
   "cell_type": "code",
   "execution_count": 42,
   "id": "624bcb5f-a077-4b20-9b81-00fd78e75efd",
   "metadata": {},
   "outputs": [
    {
     "data": {
      "text/html": [
       "<div>\n",
       "<style scoped>\n",
       "    .dataframe tbody tr th:only-of-type {\n",
       "        vertical-align: middle;\n",
       "    }\n",
       "\n",
       "    .dataframe tbody tr th {\n",
       "        vertical-align: top;\n",
       "    }\n",
       "\n",
       "    .dataframe thead th {\n",
       "        text-align: right;\n",
       "    }\n",
       "</style>\n",
       "<table border=\"1\" class=\"dataframe\">\n",
       "  <thead>\n",
       "    <tr style=\"text-align: right;\">\n",
       "      <th></th>\n",
       "      <th>station_id</th>\n",
       "      <th>city_name</th>\n",
       "      <th>country</th>\n",
       "      <th>state</th>\n",
       "      <th>iso2</th>\n",
       "      <th>iso3</th>\n",
       "      <th>latitude</th>\n",
       "      <th>longitude</th>\n",
       "    </tr>\n",
       "  </thead>\n",
       "  <tbody>\n",
       "    <tr>\n",
       "      <th>0</th>\n",
       "      <td>41515</td>\n",
       "      <td>Asadabad</td>\n",
       "      <td>Afghanistan</td>\n",
       "      <td>Kunar</td>\n",
       "      <td>AF</td>\n",
       "      <td>AFG</td>\n",
       "      <td>34.866000</td>\n",
       "      <td>71.150005</td>\n",
       "    </tr>\n",
       "    <tr>\n",
       "      <th>1</th>\n",
       "      <td>38954</td>\n",
       "      <td>Fayzabad</td>\n",
       "      <td>Afghanistan</td>\n",
       "      <td>Badakhshan</td>\n",
       "      <td>AF</td>\n",
       "      <td>AFG</td>\n",
       "      <td>37.129761</td>\n",
       "      <td>70.579247</td>\n",
       "    </tr>\n",
       "    <tr>\n",
       "      <th>2</th>\n",
       "      <td>41560</td>\n",
       "      <td>Jalalabad</td>\n",
       "      <td>Afghanistan</td>\n",
       "      <td>Nangarhar</td>\n",
       "      <td>AF</td>\n",
       "      <td>AFG</td>\n",
       "      <td>34.441527</td>\n",
       "      <td>70.436103</td>\n",
       "    </tr>\n",
       "    <tr>\n",
       "      <th>3</th>\n",
       "      <td>38947</td>\n",
       "      <td>Kunduz</td>\n",
       "      <td>Afghanistan</td>\n",
       "      <td>Kunduz</td>\n",
       "      <td>AF</td>\n",
       "      <td>AFG</td>\n",
       "      <td>36.727951</td>\n",
       "      <td>68.872530</td>\n",
       "    </tr>\n",
       "    <tr>\n",
       "      <th>4</th>\n",
       "      <td>38987</td>\n",
       "      <td>Qala i Naw</td>\n",
       "      <td>Afghanistan</td>\n",
       "      <td>Badghis</td>\n",
       "      <td>AF</td>\n",
       "      <td>AFG</td>\n",
       "      <td>34.983000</td>\n",
       "      <td>63.133300</td>\n",
       "    </tr>\n",
       "  </tbody>\n",
       "</table>\n",
       "</div>"
      ],
      "text/plain": [
       "  station_id   city_name      country       state iso2 iso3   latitude  \\\n",
       "0      41515    Asadabad  Afghanistan       Kunar   AF  AFG  34.866000   \n",
       "1      38954    Fayzabad  Afghanistan  Badakhshan   AF  AFG  37.129761   \n",
       "2      41560   Jalalabad  Afghanistan   Nangarhar   AF  AFG  34.441527   \n",
       "3      38947      Kunduz  Afghanistan      Kunduz   AF  AFG  36.727951   \n",
       "4      38987  Qala i Naw  Afghanistan     Badghis   AF  AFG  34.983000   \n",
       "\n",
       "   longitude  \n",
       "0  71.150005  \n",
       "1  70.579247  \n",
       "2  70.436103  \n",
       "3  68.872530  \n",
       "4  63.133300  "
      ]
     },
     "execution_count": 42,
     "metadata": {},
     "output_type": "execute_result"
    }
   ],
   "source": [
    "cities.head()"
   ]
  },
  {
   "cell_type": "markdown",
   "id": "adfa53c8-13fc-4a71-80c0-7b4bd750cc06",
   "metadata": {},
   "source": [
    "Taille du data set et nom des colonnes :"
   ]
  },
  {
   "cell_type": "code",
   "execution_count": 43,
   "id": "4d3b1a6b-39c1-4558-8244-30be33edfdb3",
   "metadata": {},
   "outputs": [
    {
     "data": {
      "text/plain": [
       "((1245, 8),\n",
       " Index(['station_id', 'city_name', 'country', 'state', 'iso2', 'iso3',\n",
       "        'latitude', 'longitude'],\n",
       "       dtype='object'))"
      ]
     },
     "execution_count": 43,
     "metadata": {},
     "output_type": "execute_result"
    }
   ],
   "source": [
    "cities.shape, cities.columns"
   ]
  },
  {
   "cell_type": "markdown",
   "id": "47dd3363-3d24-4914-8367-4d9697ea3154",
   "metadata": {},
   "source": [
    "Nous avons huit colonnes et 1245 villes répertoriées dans ce fichier.\\\n",
    "Remplaçons l'index du tableau par les noms de villes :\n"
   ]
  },
  {
   "cell_type": "code",
   "execution_count": 44,
   "id": "a7df080b-e36e-41d9-9503-621311934873",
   "metadata": {},
   "outputs": [
    {
     "data": {
      "text/html": [
       "<div>\n",
       "<style scoped>\n",
       "    .dataframe tbody tr th:only-of-type {\n",
       "        vertical-align: middle;\n",
       "    }\n",
       "\n",
       "    .dataframe tbody tr th {\n",
       "        vertical-align: top;\n",
       "    }\n",
       "\n",
       "    .dataframe thead th {\n",
       "        text-align: right;\n",
       "    }\n",
       "</style>\n",
       "<table border=\"1\" class=\"dataframe\">\n",
       "  <thead>\n",
       "    <tr style=\"text-align: right;\">\n",
       "      <th></th>\n",
       "      <th>station_id</th>\n",
       "      <th>country</th>\n",
       "      <th>state</th>\n",
       "      <th>iso2</th>\n",
       "      <th>iso3</th>\n",
       "      <th>latitude</th>\n",
       "      <th>longitude</th>\n",
       "    </tr>\n",
       "    <tr>\n",
       "      <th>city_name</th>\n",
       "      <th></th>\n",
       "      <th></th>\n",
       "      <th></th>\n",
       "      <th></th>\n",
       "      <th></th>\n",
       "      <th></th>\n",
       "      <th></th>\n",
       "    </tr>\n",
       "  </thead>\n",
       "  <tbody>\n",
       "    <tr>\n",
       "      <th>Asadabad</th>\n",
       "      <td>41515</td>\n",
       "      <td>Afghanistan</td>\n",
       "      <td>Kunar</td>\n",
       "      <td>AF</td>\n",
       "      <td>AFG</td>\n",
       "      <td>34.866000</td>\n",
       "      <td>71.150005</td>\n",
       "    </tr>\n",
       "    <tr>\n",
       "      <th>Fayzabad</th>\n",
       "      <td>38954</td>\n",
       "      <td>Afghanistan</td>\n",
       "      <td>Badakhshan</td>\n",
       "      <td>AF</td>\n",
       "      <td>AFG</td>\n",
       "      <td>37.129761</td>\n",
       "      <td>70.579247</td>\n",
       "    </tr>\n",
       "    <tr>\n",
       "      <th>Jalalabad</th>\n",
       "      <td>41560</td>\n",
       "      <td>Afghanistan</td>\n",
       "      <td>Nangarhar</td>\n",
       "      <td>AF</td>\n",
       "      <td>AFG</td>\n",
       "      <td>34.441527</td>\n",
       "      <td>70.436103</td>\n",
       "    </tr>\n",
       "    <tr>\n",
       "      <th>Kunduz</th>\n",
       "      <td>38947</td>\n",
       "      <td>Afghanistan</td>\n",
       "      <td>Kunduz</td>\n",
       "      <td>AF</td>\n",
       "      <td>AFG</td>\n",
       "      <td>36.727951</td>\n",
       "      <td>68.872530</td>\n",
       "    </tr>\n",
       "    <tr>\n",
       "      <th>Qala i Naw</th>\n",
       "      <td>38987</td>\n",
       "      <td>Afghanistan</td>\n",
       "      <td>Badghis</td>\n",
       "      <td>AF</td>\n",
       "      <td>AFG</td>\n",
       "      <td>34.983000</td>\n",
       "      <td>63.133300</td>\n",
       "    </tr>\n",
       "  </tbody>\n",
       "</table>\n",
       "</div>"
      ],
      "text/plain": [
       "           station_id      country       state iso2 iso3   latitude  longitude\n",
       "city_name                                                                     \n",
       "Asadabad        41515  Afghanistan       Kunar   AF  AFG  34.866000  71.150005\n",
       "Fayzabad        38954  Afghanistan  Badakhshan   AF  AFG  37.129761  70.579247\n",
       "Jalalabad       41560  Afghanistan   Nangarhar   AF  AFG  34.441527  70.436103\n",
       "Kunduz          38947  Afghanistan      Kunduz   AF  AFG  36.727951  68.872530\n",
       "Qala i Naw      38987  Afghanistan     Badghis   AF  AFG  34.983000  63.133300"
      ]
     },
     "execution_count": 44,
     "metadata": {},
     "output_type": "execute_result"
    }
   ],
   "source": [
    "cities=cities.set_index('city_name')\n",
    "cities.head()"
   ]
  },
  {
   "cell_type": "markdown",
   "id": "98fdde1d-c2ee-4c27-adec-2c603e416db1",
   "metadata": {},
   "source": [
    "Nous avons 1245 villes, regardons à combien de pays différents cela correspond: "
   ]
  },
  {
   "cell_type": "code",
   "execution_count": 45,
   "id": "f6050168-327e-4282-8f67-fda3b9e7d3d4",
   "metadata": {},
   "outputs": [
    {
     "name": "stdout",
     "output_type": "stream",
     "text": [
      "216\n"
     ]
    }
   ],
   "source": [
    "pays = cities['country'].unique()\n",
    "print(len(pays))\n"
   ]
  },
  {
   "cell_type": "markdown",
   "id": "85027297-cb36-4ef3-9f04-098b311ee55b",
   "metadata": {},
   "source": [
    "L'étude porte donc sur 1245 villes dans 216 pays différents"
   ]
  },
  {
   "cell_type": "markdown",
   "id": "0beec28f-3401-4fa4-8c83-fcde915a3152",
   "metadata": {},
   "source": [
    "Regardons les types de données que l'on possède :"
   ]
  },
  {
   "cell_type": "code",
   "execution_count": 46,
   "id": "b7e40f8e-912a-4589-aa68-7432a5355347",
   "metadata": {},
   "outputs": [
    {
     "data": {
      "text/plain": [
       "station_id     object\n",
       "country        object\n",
       "state          object\n",
       "iso2           object\n",
       "iso3           object\n",
       "latitude      float64\n",
       "longitude     float64\n",
       "dtype: object"
      ]
     },
     "execution_count": 46,
     "metadata": {},
     "output_type": "execute_result"
    }
   ],
   "source": [
    "cities.dtypes"
   ]
  },
  {
   "cell_type": "markdown",
   "id": "3c8b59f5-2fec-40ab-8df5-76a3eaa574a2",
   "metadata": {},
   "source": [
    "Toutes les données sont des objets, sauf la latitude et la longitude, ce qui est logique; nous n'avons pour l'instant aucunement besoin de changer les types puisqu'ils sont cohérents. \\\n",
    "Quantité de données différentes par colonne:"
   ]
  },
  {
   "cell_type": "code",
   "execution_count": 47,
   "id": "20ec0ac4-a64d-4684-ac49-5c429dda7f79",
   "metadata": {},
   "outputs": [
    {
     "name": "stdout",
     "output_type": "stream",
     "text": [
      "1227\n",
      "216\n",
      "1150\n",
      "216\n",
      "216\n",
      "1230\n",
      "1229\n"
     ]
    }
   ],
   "source": [
    "for colonne in cities.columns:\n",
    "    print(len(cities[colonne].unique()))"
   ]
  },
  {
   "cell_type": "markdown",
   "id": "5ac64a77-2b08-4ba3-8ef4-4a9ae2354d68",
   "metadata": {},
   "source": [
    "Les données sont réparties comme suit :\\\n",
    "1227 station_id (donc certaines villes en ont une similaire)\\\n",
    "216 pays (comme vu précédemment)\\\n",
    "1150 state (certaines villes n'ont pas de state renseigné)\\\n",
    "216 iso2 et 216 iso3 donc avoir 2 ou 3 lettres suffit à différencier ici les 216 pays\\\n",
    "1230 données de latitudes et 1229 données de longitudes; donc certaines villes on exactement la même latitude ou longitude, ce qui n'a rien d'étonnant. \\\n",
    "Voyons la quantité de données manquantes:\n"
   ]
  },
  {
   "cell_type": "code",
   "execution_count": 48,
   "id": "1e560756-7677-45f6-b1a4-363c06534714",
   "metadata": {},
   "outputs": [
    {
     "name": "stdout",
     "output_type": "stream",
     "text": [
      "station_id     0\n",
      "country        0\n",
      "state         28\n",
      "iso2           6\n",
      "iso3           0\n",
      "latitude       0\n",
      "longitude      0\n",
      "dtype: int64\n"
     ]
    }
   ],
   "source": [
    "print(cities.isnull().sum())"
   ]
  },
  {
   "cell_type": "markdown",
   "id": "5c56b4b7-07b6-421a-acd1-32cb05f45151",
   "metadata": {},
   "source": [
    "Il manque seulement la donnée de 28 états."
   ]
  },
  {
   "cell_type": "markdown",
   "id": "5af42752-5929-4186-a4e4-784e7c4f0337",
   "metadata": {},
   "source": [
    "Plus généralement, affichons les données statistiques de chaque colonne:\n"
   ]
  },
  {
   "cell_type": "code",
   "execution_count": 54,
   "id": "04a9772d-011d-4c3d-917d-494b1125b10f",
   "metadata": {},
   "outputs": [
    {
     "name": "stdout",
     "output_type": "stream",
     "text": [
      "station_id :\n",
      " count      1245\n",
      "unique     1227\n",
      "top       78397\n",
      "freq          2\n",
      "Name: station_id, dtype: object \n",
      "\n",
      "country :\n",
      " count       1245\n",
      "unique       216\n",
      "top       Russia\n",
      "freq          77\n",
      "Name: country, dtype: object \n",
      "\n",
      "state :\n",
      " count        1217\n",
      "unique       1149\n",
      "top       Unknown\n",
      "freq           32\n",
      "Name: state, dtype: object \n",
      "\n",
      "iso2 :\n",
      " count     1239\n",
      "unique     215\n",
      "top         RU\n",
      "freq        77\n",
      "Name: iso2, dtype: object \n",
      "\n",
      "iso3 :\n",
      " count     1245\n",
      "unique     216\n",
      "top        RUS\n",
      "freq        77\n",
      "Name: iso3, dtype: object \n",
      "\n",
      "latitude :\n",
      " count    1245.000000\n",
      "mean       23.729983\n",
      "std        25.996144\n",
      "min       -54.790003\n",
      "25%         8.099982\n",
      "50%        31.611105\n",
      "75%        43.699980\n",
      "max        78.216684\n",
      "Name: latitude, dtype: float64 \n",
      "\n",
      "longitude :\n",
      " count    1245.000000\n",
      "mean       20.782440\n",
      "std        66.268905\n",
      "min      -176.174022\n",
      "25%        -6.755003\n",
      "50%        23.237002\n",
      "75%        63.628302\n",
      "max       179.216647\n",
      "Name: longitude, dtype: float64 \n",
      "\n"
     ]
    }
   ],
   "source": [
    "for colonne in cities.columns:\n",
    "    print(colonne,':\\n',cities[colonne].describe(), '\\n')"
   ]
  }
 ],
 "metadata": {
  "kernelspec": {
   "display_name": "Python 3 (ipykernel)",
   "language": "python",
   "name": "python3"
  },
  "language_info": {
   "codemirror_mode": {
    "name": "ipython",
    "version": 3
   },
   "file_extension": ".py",
   "mimetype": "text/x-python",
   "name": "python",
   "nbconvert_exporter": "python",
   "pygments_lexer": "ipython3",
   "version": "3.12.3"
  }
 },
 "nbformat": 4,
 "nbformat_minor": 5
}
